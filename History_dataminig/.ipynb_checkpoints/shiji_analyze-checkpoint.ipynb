{
 "cells": [
  {
   "cell_type": "code",
   "execution_count": 1,
   "metadata": {
    "collapsed": true
   },
   "outputs": [],
   "source": [
    "# -*- coding:utf-8 -*-"
   ]
  },
  {
   "cell_type": "code",
   "execution_count": 363,
   "metadata": {
    "collapsed": true
   },
   "outputs": [],
   "source": [
    "import pandas as pd\n",
    "import numpy as np\n",
    "import jieba\n",
    "import os\n",
    "from jieba import analyse\n",
    "from bosonnlp import BosonNLP"
   ]
  },
  {
   "cell_type": "code",
   "execution_count": 143,
   "metadata": {
    "collapsed": true
   },
   "outputs": [],
   "source": [
    "with open ('shiji_original.txt', 'r') as file:\n",
    "    data = file.read().rstrip('\\n')"
   ]
  },
  {
   "cell_type": "code",
   "execution_count": 142,
   "metadata": {
    "collapsed": true
   },
   "outputs": [],
   "source": [
    "num_dict = {0: '', 1: '一', 2: '二', 3: '三', 4:'四', 5:'五', 6:'六', 7:'七', 8:'八', 9:'九', 10: '十'}"
   ]
  },
  {
   "cell_type": "code",
   "execution_count": 364,
   "metadata": {
    "collapsed": true
   },
   "outputs": [],
   "source": [
    "nlp = BosonNLP('tygIV2mk.15992.Sucx2Fi1Tmei')"
   ]
  },
  {
   "cell_type": "code",
   "execution_count": 89,
   "metadata": {
    "collapsed": true
   },
   "outputs": [
    {
     "name": "stdout",
     "output_type": "stream",
     "text": [
      "一\n",
      "二\n",
      "三\n",
      "四\n",
      "五\n",
      "六\n",
      "七\n",
      "八\n",
      "九\n",
      "十\n",
      "十一\n",
      "十二\n",
      "十三\n",
      "十四\n",
      "十五\n",
      "十六\n",
      "十七\n",
      "十八\n",
      "十九\n",
      "二十\n",
      "二十一\n",
      "二十二\n",
      "二十三\n",
      "二十四\n",
      "二十五\n",
      "二十六\n",
      "二十七\n",
      "二十八\n",
      "二十九\n",
      "三十\n",
      "三十一\n",
      "三十二\n",
      "三十三\n",
      "三十四\n",
      "三十五\n",
      "三十六\n",
      "三十七\n",
      "三十八\n",
      "三十九\n",
      "四十\n",
      "四十一\n",
      "四十二\n",
      "四十三\n",
      "四十四\n",
      "四十五\n",
      "四十六\n",
      "四十七\n",
      "四十八\n",
      "四十九\n",
      "五十\n",
      "五十一\n",
      "五十二\n",
      "五十三\n",
      "五十四\n",
      "五十五\n",
      "五十六\n",
      "五十七\n",
      "五十八\n",
      "五十九\n",
      "六十\n",
      "六十一\n",
      "六十二\n",
      "六十三\n",
      "六十四\n",
      "六十五\n",
      "六十六\n",
      "六十七\n",
      "六十八\n",
      "六十九\n",
      "七十\n",
      "七十一\n",
      "七十二\n",
      "七十三\n",
      "七十四\n",
      "七十五\n",
      "七十六\n",
      "七十七\n",
      "七十八\n",
      "七十九\n",
      "八十\n",
      "八十一\n",
      "八十二\n",
      "八十三\n",
      "八十四\n",
      "八十五\n",
      "八十六\n",
      "八十七\n",
      "八十八\n",
      "八十九\n",
      "九十\n",
      "九十一\n",
      "九十二\n",
      "九十三\n",
      "九十四\n",
      "九十五\n",
      "九十六\n",
      "九十七\n",
      "九十八\n",
      "九十九\n",
      "一百\n",
      "一百一\n",
      "一百二\n",
      "一百三\n",
      "一百四\n",
      "一百五\n",
      "一百六\n",
      "一百七\n",
      "一百八\n",
      "一百九\n",
      "一百一十\n",
      "一百一十一\n",
      "一百一十二\n",
      "一百一十三\n",
      "一百一十四\n",
      "一百一十五\n",
      "一百一十六\n",
      "一百一十七\n",
      "一百一十八\n",
      "一百一十九\n",
      "一百二十\n",
      "一百二十一\n",
      "一百二十二\n",
      "一百二十三\n",
      "一百二十四\n",
      "一百二十五\n",
      "一百二十六\n",
      "一百二十七\n",
      "一百二十八\n",
      "一百二十九\n",
      "一百三十\n",
      "一百三十一\n"
     ]
    }
   ],
   "source": [
    "def num_2_text(num):\n",
    "    text = ''\n",
    "    if num <= 10:\n",
    "        text = num_dict[num]\n",
    "    if num > 10 and num <= 19:\n",
    "        text = '十' + num_dict[num % 10]\n",
    "    if num >= 20 and num <= 99:\n",
    "        text = num_dict[int(num / 10)] + '十' + num_dict[num % 10]        \n",
    "    if num >= 110 and num <= 119:\n",
    "        text = '一百' + '一' + num_2_text(num % 100)\n",
    "    if (num >= 100 and num < 110) or (num >= 120):\n",
    "        text = '一百' + num_2_text(num % 100)   \n",
    "    return text\n",
    "\n",
    "# for i in range(1, 132):\n",
    "#     print(num_2_text(i))"
   ]
  },
  {
   "cell_type": "code",
   "execution_count": 309,
   "metadata": {
    "collapsed": false
   },
   "outputs": [],
   "source": [
    "shiji = pd.DataFrame(columns=['vol', 'title', 'text'])\n",
    "# shiji = pd.DataFrame(columns=['vol', 'title', 'text'])"
   ]
  },
  {
   "cell_type": "code",
   "execution_count": 310,
   "metadata": {
    "collapsed": false
   },
   "outputs": [],
   "source": [
    "for i in range(1, 131):\n",
    "    vol = '卷'+ num_2_text(i)\n",
    "    start = data.index(vol)\n",
    "    try:\n",
    "        text_end = data.index('卷' + num_2_text(i + 1), start)\n",
    "        text = data[start:text_end]\n",
    "        title_end = data.index('\\n', start + len(vol) + 1)\n",
    "        title = data[start + len(vol) + 1:title_end]\n",
    "    except ValueError:\n",
    "        break\n",
    "    temp= pd.DataFrame([[i, title, text]], columns = ['vol', 'title', 'text'])\n",
    "    shiji = shiji.append(temp)\n",
    "#     with open(vol + title + '.txt','w',encoding = 'utf-8') as file:\n",
    "#         file.write('%s\\n'%text)"
   ]
  },
  {
   "cell_type": "code",
   "execution_count": 270,
   "metadata": {
    "collapsed": true
   },
   "outputs": [
    {
     "data": {
      "text/html": [
       "<div>\n",
       "<table border=\"1\" class=\"dataframe\">\n",
       "  <thead>\n",
       "    <tr style=\"text-align: right;\">\n",
       "      <th></th>\n",
       "      <th>vol</th>\n",
       "      <th>title</th>\n",
       "      <th>text</th>\n",
       "    </tr>\n",
       "  </thead>\n",
       "  <tbody>\n",
       "    <tr>\n",
       "      <th>0</th>\n",
       "      <td>1.0</td>\n",
       "      <td>五帝本纪第一</td>\n",
       "      <td>卷一·五帝本纪第一\\n\\n　　黄帝者，少典之子，姓公孙，名曰轩辕。生而神灵，弱而能言，幼而徇...</td>\n",
       "    </tr>\n",
       "    <tr>\n",
       "      <th>0</th>\n",
       "      <td>2.0</td>\n",
       "      <td>夏本纪第二</td>\n",
       "      <td>卷二·夏本纪第二\\n\\n　　夏禹，名曰文命。禹之父曰鲧，鲧之父曰帝颛顼，颛顼之父曰昌意，昌意...</td>\n",
       "    </tr>\n",
       "    <tr>\n",
       "      <th>0</th>\n",
       "      <td>3.0</td>\n",
       "      <td>殷本纪第三</td>\n",
       "      <td>卷三·殷本纪第三\\n\\n　　殷契，母曰简狄，有娀氏之女，为帝喾次妃。三人行浴，见玄鸟堕其卵，...</td>\n",
       "    </tr>\n",
       "    <tr>\n",
       "      <th>0</th>\n",
       "      <td>4.0</td>\n",
       "      <td>周本纪第四</td>\n",
       "      <td>卷四·周本纪第四\\n\\n　　周后稷，名弃。其母有邰氏女，曰姜原。姜原为帝喾元妃。姜原出野，见...</td>\n",
       "    </tr>\n",
       "    <tr>\n",
       "      <th>0</th>\n",
       "      <td>5.0</td>\n",
       "      <td>秦本纪第五</td>\n",
       "      <td>卷五·秦本纪第五\\n\\n　　秦之先，帝颛顼之苗裔孙曰女脩。女脩织，玄鸟陨卵，女脩吞之，生子大...</td>\n",
       "    </tr>\n",
       "    <tr>\n",
       "      <th>0</th>\n",
       "      <td>6.0</td>\n",
       "      <td>秦始皇本纪第六</td>\n",
       "      <td>卷六·秦始皇本纪第六\\n\\n　　秦始皇帝者，秦庄襄王子也。庄襄王为秦质子于赵，见吕不韦姬，悦...</td>\n",
       "    </tr>\n",
       "    <tr>\n",
       "      <th>0</th>\n",
       "      <td>7.0</td>\n",
       "      <td>项羽本纪第七</td>\n",
       "      <td>卷七·项羽本纪第七\\n\\n　　项籍者，下相人也，字羽。初起时，年二十四。其季父项梁，梁父即楚...</td>\n",
       "    </tr>\n",
       "    <tr>\n",
       "      <th>0</th>\n",
       "      <td>8.0</td>\n",
       "      <td>高祖本纪第八</td>\n",
       "      <td>卷八·高祖本纪第八\\n\\n　　高祖，沛丰邑中阳里人，姓刘氏，字季。父曰太公，母曰刘媪。其先刘...</td>\n",
       "    </tr>\n",
       "    <tr>\n",
       "      <th>0</th>\n",
       "      <td>9.0</td>\n",
       "      <td>吕太后本纪第九</td>\n",
       "      <td>卷九·吕太后本纪第九\\n\\n　　吕太后者，高祖微时妃也，生孝惠帝、女鲁元太后。及高祖为汉王，...</td>\n",
       "    </tr>\n",
       "    <tr>\n",
       "      <th>0</th>\n",
       "      <td>10.0</td>\n",
       "      <td>孝文本纪第十</td>\n",
       "      <td>卷十·孝文本纪第十\\n\\n　　孝文皇帝，高祖中子也。高祖十一年春，已破陈豨军，定代地，立为代...</td>\n",
       "    </tr>\n",
       "    <tr>\n",
       "      <th>0</th>\n",
       "      <td>11.0</td>\n",
       "      <td>孝景本纪第十一</td>\n",
       "      <td>卷十一·孝景本纪第十一\\n\\n　　孝景皇帝者，孝文之中子也。母窦太后。孝文在代时，前后有三男...</td>\n",
       "    </tr>\n",
       "    <tr>\n",
       "      <th>0</th>\n",
       "      <td>12.0</td>\n",
       "      <td>孝武本纪第十二</td>\n",
       "      <td>卷十二·孝武本纪第十二\\n\\n　　孝武皇帝者，孝景中子也。母曰王太后。孝景四年，以皇子为胶东...</td>\n",
       "    </tr>\n",
       "    <tr>\n",
       "      <th>0</th>\n",
       "      <td>13.0</td>\n",
       "      <td>三代世表第一</td>\n",
       "      <td>卷十三·三代世表第一\\n\\n　　太史公曰：五帝、三代之记，尚矣。自殷以前诸侯不可得而谱，周以...</td>\n",
       "    </tr>\n",
       "    <tr>\n",
       "      <th>0</th>\n",
       "      <td>14.0</td>\n",
       "      <td>十二诸侯年表第二</td>\n",
       "      <td>卷十四·十二诸侯年表第二\\n\\n　　太史公读春秋历谱谍，至周厉王，未尝不废书而叹也。曰：呜呼...</td>\n",
       "    </tr>\n",
       "    <tr>\n",
       "      <th>0</th>\n",
       "      <td>15.0</td>\n",
       "      <td>六国年表第三</td>\n",
       "      <td>卷十五·六国年表第三\\n\\n　　太史公读秦记，至犬戎败幽王，周东徙洛邑，秦襄公始封为诸侯，作...</td>\n",
       "    </tr>\n",
       "    <tr>\n",
       "      <th>0</th>\n",
       "      <td>16.0</td>\n",
       "      <td>秦楚之际月表第四</td>\n",
       "      <td>卷十六·秦楚之际月表第四\\n\\n　　太史公读秦楚之际，曰：初作难，发于陈涉；虐戾灭秦，自项氏...</td>\n",
       "    </tr>\n",
       "    <tr>\n",
       "      <th>0</th>\n",
       "      <td>17.0</td>\n",
       "      <td>汉兴以来诸侯王年表第五</td>\n",
       "      <td>卷十七·汉兴以来诸侯王年表第五\\n\\n　　太史公曰：殷以前尚矣。周封五等：公，侯，伯，子，男...</td>\n",
       "    </tr>\n",
       "    <tr>\n",
       "      <th>0</th>\n",
       "      <td>18.0</td>\n",
       "      <td>高祖功臣侯者年表第六</td>\n",
       "      <td>卷十八·高祖功臣侯者年表第六\\n\\n　　太史公曰：古者人臣功有五品，以德立宗庙定社稷曰勋，以...</td>\n",
       "    </tr>\n",
       "    <tr>\n",
       "      <th>0</th>\n",
       "      <td>19.0</td>\n",
       "      <td>惠景閒侯者年表第七</td>\n",
       "      <td>卷十九·惠景閒侯者年表第七\\n\\n　　太史公读列封至便侯曰：有以也夫！长沙王者，著令甲，称其...</td>\n",
       "    </tr>\n",
       "    <tr>\n",
       "      <th>0</th>\n",
       "      <td>20.0</td>\n",
       "      <td>建元以来侯者年表第八</td>\n",
       "      <td>卷二十·建元以来侯者年表第八\\n\\n　　太史公曰：匈奴绝和亲，攻当路塞；闽越擅伐，东瓯请降。...</td>\n",
       "    </tr>\n",
       "    <tr>\n",
       "      <th>0</th>\n",
       "      <td>21.0</td>\n",
       "      <td>建元已来王子侯者年表第九</td>\n",
       "      <td>卷二十一·建元已来王子侯者年表第九\\n\\n　　制诏御史：“诸侯王或欲推私恩分子弟邑者，令各条...</td>\n",
       "    </tr>\n",
       "    <tr>\n",
       "      <th>0</th>\n",
       "      <td>22.0</td>\n",
       "      <td>汉兴以来将相名臣年表第十</td>\n",
       "      <td>卷二十二·汉兴以来将相名臣年表第十\\n\\n　　高祖初起，啸命群雄。天下未定，王我汉中。三杰既...</td>\n",
       "    </tr>\n",
       "    <tr>\n",
       "      <th>0</th>\n",
       "      <td>23.0</td>\n",
       "      <td>礼书第一</td>\n",
       "      <td>卷二十三·礼书第一\\n\\n　　太史公曰：洋洋美德乎！宰制万物，役使群众，岂人力也哉？余至大行...</td>\n",
       "    </tr>\n",
       "    <tr>\n",
       "      <th>0</th>\n",
       "      <td>24.0</td>\n",
       "      <td>乐书第二</td>\n",
       "      <td>卷二十四·乐书第二\\n\\n　　太史公曰：余每读虞书，至于君臣相敕，维是几安，而股肱不良，万事...</td>\n",
       "    </tr>\n",
       "    <tr>\n",
       "      <th>0</th>\n",
       "      <td>25.0</td>\n",
       "      <td>律书第三</td>\n",
       "      <td>卷二十五·律书第三\\n\\n　　王者制事立法，物度轨则，壹禀于六律，六律为万事根本焉。\\n\\n...</td>\n",
       "    </tr>\n",
       "    <tr>\n",
       "      <th>0</th>\n",
       "      <td>26.0</td>\n",
       "      <td>历书第四</td>\n",
       "      <td>卷二十六·历书第四\\n\\n　　昔自在古，历建正作于孟春。于时冰泮发蛰，百草奋兴，秭鳺先滜。物...</td>\n",
       "    </tr>\n",
       "    <tr>\n",
       "      <th>0</th>\n",
       "      <td>27.0</td>\n",
       "      <td>天官书第五</td>\n",
       "      <td>卷二十七·天官书第五\\n\\n　　中宫天极星，其一明者，太一常居也；旁三星三公，或曰子属。后句...</td>\n",
       "    </tr>\n",
       "    <tr>\n",
       "      <th>0</th>\n",
       "      <td>28.0</td>\n",
       "      <td>封禅书第六</td>\n",
       "      <td>卷二十八·封禅书第六\\n\\n　　自古受命帝王，曷尝不封禅？盖有无其应而用事者矣，未有睹符瑞见...</td>\n",
       "    </tr>\n",
       "    <tr>\n",
       "      <th>0</th>\n",
       "      <td>29.0</td>\n",
       "      <td>河渠书第七</td>\n",
       "      <td>卷二十九·河渠书第七\\n\\n　　夏书曰：禹抑洪水十三年，过家不入门。陆行载车，水行载舟，泥行...</td>\n",
       "    </tr>\n",
       "    <tr>\n",
       "      <th>0</th>\n",
       "      <td>30.0</td>\n",
       "      <td>平准书第八</td>\n",
       "      <td>卷三十·平准书第八\\n\\n　　汉兴，接秦之弊，丈夫从军旅，老弱转粮饟，作业剧而财匮，自天子不...</td>\n",
       "    </tr>\n",
       "    <tr>\n",
       "      <th>...</th>\n",
       "      <td>...</td>\n",
       "      <td>...</td>\n",
       "      <td>...</td>\n",
       "    </tr>\n",
       "    <tr>\n",
       "      <th>0</th>\n",
       "      <td>101.0</td>\n",
       "      <td>袁盎晁错列传第四十一</td>\n",
       "      <td>卷一百一·袁盎晁错列传第四十一\\n\\n　　袁盎者，楚人也，字丝。父故为群盗，徙处安陵。高后时...</td>\n",
       "    </tr>\n",
       "    <tr>\n",
       "      <th>0</th>\n",
       "      <td>102.0</td>\n",
       "      <td>张释之冯唐列传第四十二</td>\n",
       "      <td>卷一百二·张释之冯唐列传第四十二\\n\\n　　张廷尉释之者，堵阳人也，字季。有兄仲同居。以訾为...</td>\n",
       "    </tr>\n",
       "    <tr>\n",
       "      <th>0</th>\n",
       "      <td>103.0</td>\n",
       "      <td>万石张叔列传第四十三</td>\n",
       "      <td>卷一百三·万石张叔列传第四十三\\n\\n　　万石君名奋，其父赵人也，姓石氏。赵亡，徙居温。高祖...</td>\n",
       "    </tr>\n",
       "    <tr>\n",
       "      <th>0</th>\n",
       "      <td>104.0</td>\n",
       "      <td>田叔列传第四十四</td>\n",
       "      <td>卷一百四·田叔列传第四十四\\n\\n　　田叔者，赵陉城人也。其先，齐田氏苗裔也。叔喜剑，学黄老...</td>\n",
       "    </tr>\n",
       "    <tr>\n",
       "      <th>0</th>\n",
       "      <td>105.0</td>\n",
       "      <td>扁鹊仓公列传第四十五</td>\n",
       "      <td>卷一百五·扁鹊仓公列传第四十五\\n\\n　　扁鹊者，勃海郡郑人也，姓秦氏，名越人。少时为人舍长...</td>\n",
       "    </tr>\n",
       "    <tr>\n",
       "      <th>0</th>\n",
       "      <td>106.0</td>\n",
       "      <td>吴王濞列传第四十六</td>\n",
       "      <td>卷一百六·吴王濞列传第四十六\\n\\n　　吴王濞者，高帝兄刘仲之子也。高帝已定天下七年，立刘仲...</td>\n",
       "    </tr>\n",
       "    <tr>\n",
       "      <th>0</th>\n",
       "      <td>107.0</td>\n",
       "      <td>魏其武安侯列传第四十七</td>\n",
       "      <td>卷一百七·魏其武安侯列传第四十七\\n\\n　　魏其侯窦婴者，孝文后从兄子也。父世观津人。喜宾客...</td>\n",
       "    </tr>\n",
       "    <tr>\n",
       "      <th>0</th>\n",
       "      <td>108.0</td>\n",
       "      <td>韩长孺列传第四十八</td>\n",
       "      <td>卷一百八·韩长孺列传第四十八\\n\\n　　御史大夫韩安国者，梁成安人也，后徙睢阳。尝受韩子、杂...</td>\n",
       "    </tr>\n",
       "    <tr>\n",
       "      <th>0</th>\n",
       "      <td>109.0</td>\n",
       "      <td>李将军列传第四十九</td>\n",
       "      <td>卷一百九·李将军列传第四十九\\n\\n　　李将军广者，陇西成纪人也。其先曰李信，秦时为将，逐得...</td>\n",
       "    </tr>\n",
       "    <tr>\n",
       "      <th>0</th>\n",
       "      <td>110.0</td>\n",
       "      <td>·卫将军骠骑列传第五十一</td>\n",
       "      <td></td>\n",
       "    </tr>\n",
       "    <tr>\n",
       "      <th>0</th>\n",
       "      <td>111.0</td>\n",
       "      <td>卫将军骠骑列传第五十一</td>\n",
       "      <td>卷一百一十一·卫将军骠骑列传第五十一\\n\\n　　大将军卫青者，平阳人也。其父郑季，为吏，给事...</td>\n",
       "    </tr>\n",
       "    <tr>\n",
       "      <th>0</th>\n",
       "      <td>112.0</td>\n",
       "      <td>平津侯主父列传第五十二</td>\n",
       "      <td>卷一百一十二·平津侯主父列传第五十二\\n\\n　　丞相公孙弘者，齐菑川国薛县人也，字季。少时为...</td>\n",
       "    </tr>\n",
       "    <tr>\n",
       "      <th>0</th>\n",
       "      <td>113.0</td>\n",
       "      <td>南越列传第五十三</td>\n",
       "      <td>卷一百一十三·南越列传第五十三\\n\\n　　南越王尉佗者，真定人也，姓赵氏。秦时已并天下，略定...</td>\n",
       "    </tr>\n",
       "    <tr>\n",
       "      <th>0</th>\n",
       "      <td>114.0</td>\n",
       "      <td>东越列传第五十四</td>\n",
       "      <td>卷一百一十四·东越列传第五十四\\n\\n　　闽越王无诸及越东海王摇者，其先皆越王句践之后也，姓...</td>\n",
       "    </tr>\n",
       "    <tr>\n",
       "      <th>0</th>\n",
       "      <td>115.0</td>\n",
       "      <td>朝鲜列传第五十五</td>\n",
       "      <td>卷一百一十五·朝鲜列传第五十五\\n\\n　　朝鲜王满者，故燕人也。自始全燕时尝略属真番、朝鲜，...</td>\n",
       "    </tr>\n",
       "    <tr>\n",
       "      <th>0</th>\n",
       "      <td>116.0</td>\n",
       "      <td>西南夷列传第五十六</td>\n",
       "      <td>卷一百一十六·西南夷列传第五十六\\n\\n　　西南夷君长以什数，夜郎最大；其西靡莫之属以什数，...</td>\n",
       "    </tr>\n",
       "    <tr>\n",
       "      <th>0</th>\n",
       "      <td>117.0</td>\n",
       "      <td>司马相如列传第五十七</td>\n",
       "      <td>卷一百一十七·司马相如列传第五十七\\n\\n　　司马相如者，蜀郡成都人也，字长卿。少时好读书，...</td>\n",
       "    </tr>\n",
       "    <tr>\n",
       "      <th>0</th>\n",
       "      <td>118.0</td>\n",
       "      <td>淮南衡山列传第五十八</td>\n",
       "      <td>卷一百一十八·淮南衡山列传第五十八\\n\\n　　淮南厉王长者，高祖少子也，其母故赵王张敖美人。...</td>\n",
       "    </tr>\n",
       "    <tr>\n",
       "      <th>0</th>\n",
       "      <td>119.0</td>\n",
       "      <td>循吏列传第五十九</td>\n",
       "      <td>卷一百一十九·循吏列传第五十九\\n\\n　　太史公曰：法令所以导民也，刑罚所以禁奸也。文武不备...</td>\n",
       "    </tr>\n",
       "    <tr>\n",
       "      <th>0</th>\n",
       "      <td>120.0</td>\n",
       "      <td>汲郑列传第六十</td>\n",
       "      <td>卷一百二十·汲郑列传第六十\\n\\n　　汲黯字长孺，濮阳人也。其先有宠于古之卫君。至黯七世，世...</td>\n",
       "    </tr>\n",
       "    <tr>\n",
       "      <th>0</th>\n",
       "      <td>121.0</td>\n",
       "      <td>儒林列传第六十一</td>\n",
       "      <td>卷一百二十一·儒林列传第六十一\\n\\n　　太史公曰：余读功令，至于广厉学官之路，未尝不废书而...</td>\n",
       "    </tr>\n",
       "    <tr>\n",
       "      <th>0</th>\n",
       "      <td>122.0</td>\n",
       "      <td>酷吏列传第六十二</td>\n",
       "      <td>卷一百二十二·酷吏列传第六十二\\n\\n　　孔子曰：“导之以政，齐之以刑，民免而无耻。导之以德...</td>\n",
       "    </tr>\n",
       "    <tr>\n",
       "      <th>0</th>\n",
       "      <td>123.0</td>\n",
       "      <td>大宛列传第六十三</td>\n",
       "      <td>卷一百二十三·大宛列传第六十三\\n\\n　　大宛之迹，见自张骞。张骞，汉中人。建元中为郎。是时...</td>\n",
       "    </tr>\n",
       "    <tr>\n",
       "      <th>0</th>\n",
       "      <td>124.0</td>\n",
       "      <td>游侠列传第六十四</td>\n",
       "      <td>卷一百二十四·游侠列传第六十四\\n\\n　　韩子曰：“儒以文乱法，而侠以武犯禁。”二者皆讥，而...</td>\n",
       "    </tr>\n",
       "    <tr>\n",
       "      <th>0</th>\n",
       "      <td>125.0</td>\n",
       "      <td>佞幸列传第六十五</td>\n",
       "      <td>卷一百二十五·佞幸列传第六十五\\n\\n　　谚曰“力田不如逢年，善仕不如遇合”，固无虚言。非独...</td>\n",
       "    </tr>\n",
       "    <tr>\n",
       "      <th>0</th>\n",
       "      <td>126.0</td>\n",
       "      <td>滑稽列传第六十六</td>\n",
       "      <td>卷一百二十六·滑稽列传第六十六\\n\\n　　孔子曰：“六于治一也。礼以节人，乐以发和，书以道...</td>\n",
       "    </tr>\n",
       "    <tr>\n",
       "      <th>0</th>\n",
       "      <td>127.0</td>\n",
       "      <td>日者列传第六十七</td>\n",
       "      <td>卷一百二十七·日者列传第六十七\\n\\n　　自古受命而王，王者之兴何尝不以卜筮决于天命哉！其于...</td>\n",
       "    </tr>\n",
       "    <tr>\n",
       "      <th>0</th>\n",
       "      <td>128.0</td>\n",
       "      <td>龟策列传第六十八</td>\n",
       "      <td>卷一百二十八·龟策列传第六十八\\n\\n　　太史公曰：自古圣王将建国受命，兴动事业，何尝不宝卜...</td>\n",
       "    </tr>\n",
       "    <tr>\n",
       "      <th>0</th>\n",
       "      <td>129.0</td>\n",
       "      <td>货殖列传第六十九</td>\n",
       "      <td>卷一百二十九·货殖列传第六十九\\n\\n　　老子曰：“至治之极，邻国相望，鸡狗之声相闻，民各甘...</td>\n",
       "    </tr>\n",
       "    <tr>\n",
       "      <th>0</th>\n",
       "      <td>130.0</td>\n",
       "      <td>太史公自序第七十</td>\n",
       "      <td>卷一百三十·太史公自序第七十\\n\\n　　昔在颛顼，命南正重以司天，北正黎以司地。唐虞之际，绍...</td>\n",
       "    </tr>\n",
       "  </tbody>\n",
       "</table>\n",
       "<p>130 rows × 3 columns</p>\n",
       "</div>"
      ],
      "text/plain": [
       "      vol         title                                               text\n",
       "0     1.0        五帝本纪第一  卷一·五帝本纪第一\\n\\n　　黄帝者，少典之子，姓公孙，名曰轩辕。生而神灵，弱而能言，幼而徇...\n",
       "0     2.0         夏本纪第二  卷二·夏本纪第二\\n\\n　　夏禹，名曰文命。禹之父曰鲧，鲧之父曰帝颛顼，颛顼之父曰昌意，昌意...\n",
       "0     3.0         殷本纪第三  卷三·殷本纪第三\\n\\n　　殷契，母曰简狄，有娀氏之女，为帝喾次妃。三人行浴，见玄鸟堕其卵，...\n",
       "0     4.0         周本纪第四  卷四·周本纪第四\\n\\n　　周后稷，名弃。其母有邰氏女，曰姜原。姜原为帝喾元妃。姜原出野，见...\n",
       "0     5.0         秦本纪第五  卷五·秦本纪第五\\n\\n　　秦之先，帝颛顼之苗裔孙曰女脩。女脩织，玄鸟陨卵，女脩吞之，生子大...\n",
       "0     6.0       秦始皇本纪第六  卷六·秦始皇本纪第六\\n\\n　　秦始皇帝者，秦庄襄王子也。庄襄王为秦质子于赵，见吕不韦姬，悦...\n",
       "0     7.0        项羽本纪第七  卷七·项羽本纪第七\\n\\n　　项籍者，下相人也，字羽。初起时，年二十四。其季父项梁，梁父即楚...\n",
       "0     8.0        高祖本纪第八  卷八·高祖本纪第八\\n\\n　　高祖，沛丰邑中阳里人，姓刘氏，字季。父曰太公，母曰刘媪。其先刘...\n",
       "0     9.0       吕太后本纪第九  卷九·吕太后本纪第九\\n\\n　　吕太后者，高祖微时妃也，生孝惠帝、女鲁元太后。及高祖为汉王，...\n",
       "0    10.0        孝文本纪第十  卷十·孝文本纪第十\\n\\n　　孝文皇帝，高祖中子也。高祖十一年春，已破陈豨军，定代地，立为代...\n",
       "0    11.0       孝景本纪第十一  卷十一·孝景本纪第十一\\n\\n　　孝景皇帝者，孝文之中子也。母窦太后。孝文在代时，前后有三男...\n",
       "0    12.0       孝武本纪第十二  卷十二·孝武本纪第十二\\n\\n　　孝武皇帝者，孝景中子也。母曰王太后。孝景四年，以皇子为胶东...\n",
       "0    13.0        三代世表第一  卷十三·三代世表第一\\n\\n　　太史公曰：五帝、三代之记，尚矣。自殷以前诸侯不可得而谱，周以...\n",
       "0    14.0      十二诸侯年表第二  卷十四·十二诸侯年表第二\\n\\n　　太史公读春秋历谱谍，至周厉王，未尝不废书而叹也。曰：呜呼...\n",
       "0    15.0        六国年表第三  卷十五·六国年表第三\\n\\n　　太史公读秦记，至犬戎败幽王，周东徙洛邑，秦襄公始封为诸侯，作...\n",
       "0    16.0      秦楚之际月表第四  卷十六·秦楚之际月表第四\\n\\n　　太史公读秦楚之际，曰：初作难，发于陈涉；虐戾灭秦，自项氏...\n",
       "0    17.0   汉兴以来诸侯王年表第五  卷十七·汉兴以来诸侯王年表第五\\n\\n　　太史公曰：殷以前尚矣。周封五等：公，侯，伯，子，男...\n",
       "0    18.0    高祖功臣侯者年表第六  卷十八·高祖功臣侯者年表第六\\n\\n　　太史公曰：古者人臣功有五品，以德立宗庙定社稷曰勋，以...\n",
       "0    19.0     惠景閒侯者年表第七  卷十九·惠景閒侯者年表第七\\n\\n　　太史公读列封至便侯曰：有以也夫！长沙王者，著令甲，称其...\n",
       "0    20.0    建元以来侯者年表第八  卷二十·建元以来侯者年表第八\\n\\n　　太史公曰：匈奴绝和亲，攻当路塞；闽越擅伐，东瓯请降。...\n",
       "0    21.0  建元已来王子侯者年表第九  卷二十一·建元已来王子侯者年表第九\\n\\n　　制诏御史：“诸侯王或欲推私恩分子弟邑者，令各条...\n",
       "0    22.0  汉兴以来将相名臣年表第十  卷二十二·汉兴以来将相名臣年表第十\\n\\n　　高祖初起，啸命群雄。天下未定，王我汉中。三杰既...\n",
       "0    23.0          礼书第一  卷二十三·礼书第一\\n\\n　　太史公曰：洋洋美德乎！宰制万物，役使群众，岂人力也哉？余至大行...\n",
       "0    24.0          乐书第二  卷二十四·乐书第二\\n\\n　　太史公曰：余每读虞书，至于君臣相敕，维是几安，而股肱不良，万事...\n",
       "0    25.0          律书第三  卷二十五·律书第三\\n\\n　　王者制事立法，物度轨则，壹禀于六律，六律为万事根本焉。\\n\\n...\n",
       "0    26.0          历书第四  卷二十六·历书第四\\n\\n　　昔自在古，历建正作于孟春。于时冰泮发蛰，百草奋兴，秭鳺先滜。物...\n",
       "0    27.0         天官书第五  卷二十七·天官书第五\\n\\n　　中宫天极星，其一明者，太一常居也；旁三星三公，或曰子属。后句...\n",
       "0    28.0         封禅书第六  卷二十八·封禅书第六\\n\\n　　自古受命帝王，曷尝不封禅？盖有无其应而用事者矣，未有睹符瑞见...\n",
       "0    29.0         河渠书第七  卷二十九·河渠书第七\\n\\n　　夏书曰：禹抑洪水十三年，过家不入门。陆行载车，水行载舟，泥行...\n",
       "0    30.0         平准书第八  卷三十·平准书第八\\n\\n　　汉兴，接秦之弊，丈夫从军旅，老弱转粮饟，作业剧而财匮，自天子不...\n",
       "..    ...           ...                                                ...\n",
       "0   101.0    袁盎晁错列传第四十一  卷一百一·袁盎晁错列传第四十一\\n\\n　　袁盎者，楚人也，字丝。父故为群盗，徙处安陵。高后时...\n",
       "0   102.0   张释之冯唐列传第四十二  卷一百二·张释之冯唐列传第四十二\\n\\n　　张廷尉释之者，堵阳人也，字季。有兄仲同居。以訾为...\n",
       "0   103.0    万石张叔列传第四十三  卷一百三·万石张叔列传第四十三\\n\\n　　万石君名奋，其父赵人也，姓石氏。赵亡，徙居温。高祖...\n",
       "0   104.0      田叔列传第四十四  卷一百四·田叔列传第四十四\\n\\n　　田叔者，赵陉城人也。其先，齐田氏苗裔也。叔喜剑，学黄老...\n",
       "0   105.0    扁鹊仓公列传第四十五  卷一百五·扁鹊仓公列传第四十五\\n\\n　　扁鹊者，勃海郡郑人也，姓秦氏，名越人。少时为人舍长...\n",
       "0   106.0     吴王濞列传第四十六  卷一百六·吴王濞列传第四十六\\n\\n　　吴王濞者，高帝兄刘仲之子也。高帝已定天下七年，立刘仲...\n",
       "0   107.0   魏其武安侯列传第四十七  卷一百七·魏其武安侯列传第四十七\\n\\n　　魏其侯窦婴者，孝文后从兄子也。父世观津人。喜宾客...\n",
       "0   108.0     韩长孺列传第四十八  卷一百八·韩长孺列传第四十八\\n\\n　　御史大夫韩安国者，梁成安人也，后徙睢阳。尝受韩子、杂...\n",
       "0   109.0     李将军列传第四十九  卷一百九·李将军列传第四十九\\n\\n　　李将军广者，陇西成纪人也。其先曰李信，秦时为将，逐得...\n",
       "0   110.0  ·卫将军骠骑列传第五十一                                                   \n",
       "0   111.0   卫将军骠骑列传第五十一  卷一百一十一·卫将军骠骑列传第五十一\\n\\n　　大将军卫青者，平阳人也。其父郑季，为吏，给事...\n",
       "0   112.0   平津侯主父列传第五十二  卷一百一十二·平津侯主父列传第五十二\\n\\n　　丞相公孙弘者，齐菑川国薛县人也，字季。少时为...\n",
       "0   113.0      南越列传第五十三  卷一百一十三·南越列传第五十三\\n\\n　　南越王尉佗者，真定人也，姓赵氏。秦时已并天下，略定...\n",
       "0   114.0      东越列传第五十四  卷一百一十四·东越列传第五十四\\n\\n　　闽越王无诸及越东海王摇者，其先皆越王句践之后也，姓...\n",
       "0   115.0      朝鲜列传第五十五  卷一百一十五·朝鲜列传第五十五\\n\\n　　朝鲜王满者，故燕人也。自始全燕时尝略属真番、朝鲜，...\n",
       "0   116.0     西南夷列传第五十六  卷一百一十六·西南夷列传第五十六\\n\\n　　西南夷君长以什数，夜郎最大；其西靡莫之属以什数，...\n",
       "0   117.0    司马相如列传第五十七  卷一百一十七·司马相如列传第五十七\\n\\n　　司马相如者，蜀郡成都人也，字长卿。少时好读书，...\n",
       "0   118.0    淮南衡山列传第五十八  卷一百一十八·淮南衡山列传第五十八\\n\\n　　淮南厉王长者，高祖少子也，其母故赵王张敖美人。...\n",
       "0   119.0      循吏列传第五十九  卷一百一十九·循吏列传第五十九\\n\\n　　太史公曰：法令所以导民也，刑罚所以禁奸也。文武不备...\n",
       "0   120.0       汲郑列传第六十  卷一百二十·汲郑列传第六十\\n\\n　　汲黯字长孺，濮阳人也。其先有宠于古之卫君。至黯七世，世...\n",
       "0   121.0      儒林列传第六十一  卷一百二十一·儒林列传第六十一\\n\\n　　太史公曰：余读功令，至于广厉学官之路，未尝不废书而...\n",
       "0   122.0      酷吏列传第六十二  卷一百二十二·酷吏列传第六十二\\n\\n　　孔子曰：“导之以政，齐之以刑，民免而无耻。导之以德...\n",
       "0   123.0      大宛列传第六十三  卷一百二十三·大宛列传第六十三\\n\\n　　大宛之迹，见自张骞。张骞，汉中人。建元中为郎。是时...\n",
       "0   124.0      游侠列传第六十四  卷一百二十四·游侠列传第六十四\\n\\n　　韩子曰：“儒以文乱法，而侠以武犯禁。”二者皆讥，而...\n",
       "0   125.0      佞幸列传第六十五  卷一百二十五·佞幸列传第六十五\\n\\n　　谚曰“力田不如逢年，善仕不如遇合”，固无虚言。非独...\n",
       "0   126.0      滑稽列传第六十六  卷一百二十六·滑稽列传第六十六\\n\\n　　孔子曰：“六于治一也。礼以节人，乐以发和，书以道...\n",
       "0   127.0      日者列传第六十七  卷一百二十七·日者列传第六十七\\n\\n　　自古受命而王，王者之兴何尝不以卜筮决于天命哉！其于...\n",
       "0   128.0      龟策列传第六十八  卷一百二十八·龟策列传第六十八\\n\\n　　太史公曰：自古圣王将建国受命，兴动事业，何尝不宝卜...\n",
       "0   129.0      货殖列传第六十九  卷一百二十九·货殖列传第六十九\\n\\n　　老子曰：“至治之极，邻国相望，鸡狗之声相闻，民各甘...\n",
       "0   130.0      太史公自序第七十  卷一百三十·太史公自序第七十\\n\\n　　昔在颛顼，命南正重以司天，北正黎以司地。唐虞之际，绍...\n",
       "\n",
       "[130 rows x 3 columns]"
      ]
     },
     "execution_count": 270,
     "metadata": {},
     "output_type": "execute_result"
    }
   ],
   "source": [
    "shiji"
   ]
  },
  {
   "cell_type": "code",
   "execution_count": 361,
   "metadata": {
    "collapsed": false
   },
   "outputs": [],
   "source": [
    "shiji = shiji.assign(text_len = shiji.text.str.len()) \n",
    "#added another row and counted text lenth, cool!"
   ]
  },
  {
   "cell_type": "code",
   "execution_count": 312,
   "metadata": {
    "collapsed": true
   },
   "outputs": [],
   "source": [
    "shiji.to_excel('foo.xlsx', sheet_name='sheet1')"
   ]
  },
  {
   "cell_type": "code",
   "execution_count": 362,
   "metadata": {
    "collapsed": false
   },
   "outputs": [
    {
     "name": "stdout",
     "output_type": "stream",
     "text": [
      "    vol    title                                               text  text_len\n",
      "0   1.0   五帝本纪第一  卷一·五帝本纪第一\\n\\n　　黄帝者，少典之子，姓公孙，名曰轩辕。生而神灵，弱而能言，幼而徇...      4777\n",
      "0   2.0    夏本纪第二  卷二·夏本纪第二\\n\\n　　夏禹，名曰文命。禹之父曰鲧，鲧之父曰帝颛顼，颛顼之父曰昌意，昌意...      4312\n",
      "0   3.0    殷本纪第三  卷三·殷本纪第三\\n\\n　　殷契，母曰简狄，有娀氏之女，为帝喾次妃。三人行浴，见玄鸟堕其卵，...      3810\n",
      "0   4.0    周本纪第四  卷四·周本纪第四\\n\\n　　周后稷，名弃。其母有邰氏女，曰姜原。姜原为帝喾元妃。姜原出野，见...     10733\n",
      "0   5.0    秦本纪第五  卷五·秦本纪第五\\n\\n　　秦之先，帝颛顼之苗裔孙曰女脩。女脩织，玄鸟陨卵，女脩吞之，生子大...     10749\n",
      "0   6.0  秦始皇本纪第六  卷六·秦始皇本纪第六\\n\\n　　秦始皇帝者，秦庄襄王子也。庄襄王为秦质子于赵，见吕不韦姬，悦...     16503\n",
      "0   7.0   项羽本纪第七  卷七·项羽本纪第七\\n\\n　　项籍者，下相人也，字羽。初起时，年二十四。其季父项梁，梁父即楚...     11307\n",
      "0   8.0   高祖本纪第八  卷八·高祖本纪第八\\n\\n　　高祖，沛丰邑中阳里人，姓刘氏，字季。父曰太公，母曰刘媪。其先刘...     11983\n",
      "0   9.0  吕太后本纪第九  卷九·吕太后本纪第九\\n\\n　　吕太后者，高祖微时妃也，生孝惠帝、女鲁元太后。及高祖为汉王，...      5558\n",
      "0  10.0   孝文本纪第十  卷十·孝文本纪第十\\n\\n　　孝文皇帝，高祖中子也。高祖十一年春，已破陈豨军，定代地，立为代...      6899\n"
     ]
    }
   ],
   "source": []
  },
  {
   "cell_type": "code",
   "execution_count": 369,
   "metadata": {
    "collapsed": true
   },
   "outputs": [],
   "source": [
    "test = shiji[:2]"
   ]
  },
  {
   "cell_type": "code",
   "execution_count": 375,
   "metadata": {
    "collapsed": false
   },
   "outputs": [
    {
     "name": "stderr",
     "output_type": "stream",
     "text": [
      "/Users/lifanhong/anaconda3/lib/python3.5/site-packages/ipykernel/__main__.py:2: SettingWithCopyWarning: \n",
      "A value is trying to be set on a copy of a slice from a DataFrame.\n",
      "Try using .loc[row_indexer,col_indexer] = value instead\n",
      "\n",
      "See the caveats in the documentation: http://pandas.pydata.org/pandas-docs/stable/indexing.html#indexing-view-versus-copy\n",
      "  from ipykernel import kernelapp as app\n"
     ]
    }
   ],
   "source": [
    "for i in range(len(test)):\n",
    "    test['sentiment'] = test['text'].apply(nlp.sentiment)"
   ]
  },
  {
   "cell_type": "code",
   "execution_count": 376,
   "metadata": {
    "collapsed": false
   },
   "outputs": [
    {
     "data": {
      "text/html": [
       "<div>\n",
       "<table border=\"1\" class=\"dataframe\">\n",
       "  <thead>\n",
       "    <tr style=\"text-align: right;\">\n",
       "      <th></th>\n",
       "      <th>vol</th>\n",
       "      <th>title</th>\n",
       "      <th>text</th>\n",
       "      <th>text_len</th>\n",
       "      <th>sentiment</th>\n",
       "    </tr>\n",
       "  </thead>\n",
       "  <tbody>\n",
       "    <tr>\n",
       "      <th>0</th>\n",
       "      <td>1.0</td>\n",
       "      <td>五帝本纪第一</td>\n",
       "      <td>卷一·五帝本纪第一\\n\\n　　黄帝者，少典之子，姓公孙，名曰轩辕。生而神灵，弱而能言，幼而徇...</td>\n",
       "      <td>4777</td>\n",
       "      <td>[[0.37201529420222146, 0.6279847057977785]]</td>\n",
       "    </tr>\n",
       "    <tr>\n",
       "      <th>0</th>\n",
       "      <td>2.0</td>\n",
       "      <td>夏本纪第二</td>\n",
       "      <td>卷二·夏本纪第二\\n\\n　　夏禹，名曰文命。禹之父曰鲧，鲧之父曰帝颛顼，颛顼之父曰昌意，昌意...</td>\n",
       "      <td>4312</td>\n",
       "      <td>[[0.8631377378083726, 0.13686226219162745]]</td>\n",
       "    </tr>\n",
       "  </tbody>\n",
       "</table>\n",
       "</div>"
      ],
      "text/plain": [
       "   vol   title                                               text  text_len  \\\n",
       "0  1.0  五帝本纪第一  卷一·五帝本纪第一\\n\\n　　黄帝者，少典之子，姓公孙，名曰轩辕。生而神灵，弱而能言，幼而徇...      4777   \n",
       "0  2.0   夏本纪第二  卷二·夏本纪第二\\n\\n　　夏禹，名曰文命。禹之父曰鲧，鲧之父曰帝颛顼，颛顼之父曰昌意，昌意...      4312   \n",
       "\n",
       "                                     sentiment  \n",
       "0  [[0.37201529420222146, 0.6279847057977785]]  \n",
       "0  [[0.8631377378083726, 0.13686226219162745]]  "
      ]
     },
     "execution_count": 376,
     "metadata": {},
     "output_type": "execute_result"
    }
   ],
   "source": [
    "test"
   ]
  },
  {
   "cell_type": "code",
   "execution_count": 316,
   "metadata": {
    "collapsed": true
   },
   "outputs": [
    {
     "name": "stderr",
     "output_type": "stream",
     "text": [
      "/Users/lifanhong/anaconda3/lib/python3.5/site-packages/IPython/core/interactiveshell.py:2881: FutureWarning: \n",
      "mpl_style had been deprecated and will be removed in a future version.\n",
      "Use `matplotlib.pyplot.style.use` instead.\n",
      "\n",
      "  exec(code_obj, self.user_global_ns, self.user_ns)\n"
     ]
    },
    {
     "data": {
      "image/png": "[encoded data removed]",
      "text/plain": [
       "<matplotlib.figure.Figure at 0x12e0cc8d0>"
      ]
     },
     "metadata": {},
     "output_type": "display_data"
    }
   ],
   "source": [
    "#try make a bar plot, not really good\n",
    "pd.options.display.mpl_style = 'default'\n",
    "#shiji = shiji.sort('text_len',ascending = False)[:10]\n",
    "shiji_plot = shiji.plot(kind=\"bar\",x=shiji[\"vol\"],\n",
    "                          title=\"text length\",\n",
    "                          legend=False)"
   ]
  },
  {
   "cell_type": "code",
   "execution_count": 322,
   "metadata": {
    "collapsed": false
   },
   "outputs": [
    {
     "name": "stdout",
     "output_type": "stream",
     "text": [
      "    segment  计数\n",
      "368      天下  19\n",
      "956      黄帝  16\n",
      "123      于是  15\n",
      "803      至于  12\n",
      "858      诸侯  10\n",
      "371      天子  10\n",
      "935      颛顼   9\n",
      "338      四岳   8\n",
      "883      轩辕   7\n",
      "718      百姓   7\n",
      "tags : ['黄帝', '天下', '四岳', '颛顼', '于是', '诸侯', '天子', '至于', '帝喾', '轩辕']\n",
      "textrank : ['轩辕', '百姓', '天子', '才子', '共工', '蚩尤', '颛顼', '鸟兽', '便程', '鬼神']\n",
      "    segment  计数\n",
      "696      至于  26\n",
      "190      入于  13\n",
      "117      于是  12\n",
      "326      天下  12\n",
      "358      子帝  11\n",
      "743      诸侯   9\n",
      "621      皋陶   8\n",
      "573      浮于   7\n",
      "203      其土   7\n",
      "361      孔甲   6\n",
      "tags : ['至于', '入于', '子帝', '皋陶', '其土', '浮于', '天下', '夏后', '孔甲', '诸侯']\n",
      "textrank : ['入于', '予欲', '百姓', '不成', '九江', '服外', '四海', '黑水', '股肱', '水土']\n",
      "    segment  计数\n",
      "724      诸侯  21\n",
      "147      伊尹  13\n",
      "106      于是  11\n",
      "710      西伯  10\n",
      "326      子帝  10\n",
      "619      百姓   9\n",
      "302      太甲   9\n",
      "521      武丁   8\n",
      "13       三年   5\n",
      "265      复兴   5\n",
      "tags : ['诸侯', '伊尹', '子帝', '西伯', '太甲', '武丁', '于是', '百姓', '帝中', '帝外']\n",
      "textrank : ['百姓', '西伯', '太甲', '弟子', '成汤', '微子', '天神', '服色', '辛立', '附命']\n",
      "     segment  计数\n",
      "1369      武王  38\n",
      "1863      诸侯  35\n",
      "863       太子  22\n",
      "1840      西伯  17\n",
      "234       于是  15\n",
      "1841      西周  14\n",
      "1839      襄王  13\n",
      "838       天下  12\n",
      "1064      幽王  10\n",
      "654       后稷  10\n",
      "tags : ['武王', '诸侯', '西伯', '太子', '襄王', '幽王', '后稷', '周君', '成王', '西周']\n",
      "textrank : ['太子', '西伯', '幽王', '先王', '文王', '成王', '百姓', '后稷', '国人', '天子']\n"
     ]
    }
   ],
   "source": [
    "for i in range(1, 5):\n",
    "    test = shiji[shiji['vol'] == i]['text'].tolist()[0]\n",
    "    tags = analyse.extract_tags(test, topK=10, withWeight=False, allowPOS=())\n",
    "    textrank = analyse.textrank(test, topK=10, withWeight=False)\n",
    "    print(segrank(test).head(10))\n",
    "#   seg_list = jieba.cut(test, cut_all = True)\n",
    "#     print(len(test))\n",
    "    print(\"tags : \" + str(tags))\n",
    "    print(\"textrank : \" + str(textrank))\n",
    "#     print(\"Full Mode: \" + \"/ \".join(seg_list))\n",
    "    \n",
    "    "
   ]
  },
  {
   "cell_type": "code",
   "execution_count": 342,
   "metadata": {
    "collapsed": true
   },
   "outputs": [
    {
     "name": "stdout",
     "output_type": "stream",
     "text": [
      "         ,\n",
      "0        ?\n",
      "1        、\n",
      "2        。\n",
      "3        “\n",
      "4        ”\n",
      "5        《\n",
      "6        》\n",
      "7        ！\n",
      "8        ，\n",
      "9        ：\n",
      "10       ；\n",
      "11       ？\n",
      "12      人民\n",
      "13    末##末\n",
      "14       啊\n",
      "15       阿\n",
      "16       哎\n",
      "17      哎呀\n",
      "18      哎哟\n",
      "19       唉\n",
      "20       俺\n",
      "21      俺们\n",
      "22       按\n",
      "23      按照\n",
      "24       吧\n",
      "25      吧哒\n",
      "26       把\n",
      "27      罢了\n",
      "28       被\n",
      "29       本\n",
      "...    ...\n",
      "3884    最佳\n",
      "3885    而成\n",
      "3886    获取\n",
      "3887    我国\n",
      "3888   这方面\n",
      "3889   一部分\n",
      "3890    均可\n",
      "3891    采用\n",
      "3892    列为\n",
      "3893    可获\n",
      "3894    一批\n",
      "3895    首个\n",
      "3896    我在\n",
      "3897    较大\n",
      "3898    称为\n",
      "3899    特地\n",
      "3900   还只是\n",
      "3901    感觉\n",
      "3902   没什么\n",
      "3903    从这\n",
      "3904    就会\n",
      "3905    不好\n",
      "3906    得知\n",
      "3907    带着\n",
      "3908   许多人\n",
      "3909    的是\n",
      "3910    都很\n",
      "3911   都没有\n",
      "3912    启动\n",
      "3913    几年\n",
      "\n",
      "[3914 rows x 1 columns]\n"
     ]
    }
   ],
   "source": [
    "print(test)"
   ]
  },
  {
   "cell_type": "code",
   "execution_count": 353,
   "metadata": {
    "collapsed": false
   },
   "outputs": [],
   "source": [
    "test= stopwords = pd.read_csv(\"/Users/lifanhong/Desktop/History_dataminig/stopwords.txt\", encoding='utf8', index_col=False, quoting=3, sep=\"\\t\", names = ['key'])"
   ]
  },
  {
   "cell_type": "code",
   "execution_count": 354,
   "metadata": {
    "collapsed": true
   },
   "outputs": [
    {
     "name": "stdout",
     "output_type": "stream",
     "text": [
      "       key\n",
      "0        ,\n",
      "1        ?\n",
      "2        、\n",
      "3        。\n",
      "4        “\n",
      "5        ”\n",
      "6        《\n",
      "7        》\n",
      "8        ！\n",
      "9        ，\n",
      "10       ：\n",
      "11       ；\n",
      "12       ？\n",
      "13      人民\n",
      "14    末##末\n",
      "15       啊\n",
      "16       阿\n",
      "17       哎\n",
      "18      哎呀\n",
      "19      哎哟\n",
      "20       唉\n",
      "21       俺\n",
      "22      俺们\n",
      "23       按\n",
      "24      按照\n",
      "25       吧\n",
      "26      吧哒\n",
      "27       把\n",
      "28      罢了\n",
      "29       被\n",
      "...    ...\n",
      "3885    最佳\n",
      "3886    而成\n",
      "3887    获取\n",
      "3888    我国\n",
      "3889   这方面\n",
      "3890   一部分\n",
      "3891    均可\n",
      "3892    采用\n",
      "3893    列为\n",
      "3894    可获\n",
      "3895    一批\n",
      "3896    首个\n",
      "3897    我在\n",
      "3898    较大\n",
      "3899    称为\n",
      "3900    特地\n",
      "3901   还只是\n",
      "3902    感觉\n",
      "3903   没什么\n",
      "3904    从这\n",
      "3905    就会\n",
      "3906    不好\n",
      "3907    得知\n",
      "3908    带着\n",
      "3909   许多人\n",
      "3910    的是\n",
      "3911    都很\n",
      "3912   都没有\n",
      "3913    启动\n",
      "3914    几年\n",
      "\n",
      "[3915 rows x 1 columns]\n"
     ]
    }
   ],
   "source": [
    "print(test)"
   ]
  },
  {
   "cell_type": "code",
   "execution_count": 356,
   "metadata": {
    "collapsed": true
   },
   "outputs": [
    {
     "name": "stdout",
     "output_type": "stream",
     "text": [
      "0    True\n",
      "dtype: bool\n"
     ]
    }
   ],
   "source": [
    "print(pd.Series('，').isin(stopwords['key']))"
   ]
  },
  {
   "cell_type": "code",
   "execution_count": 334,
   "metadata": {
    "collapsed": true
   },
   "outputs": [
    {
     "name": "stdout",
     "output_type": "stream",
     "text": [
      "0           五帝\n",
      "1           本纪\n",
      "2           第一\n",
      "3           黄帝\n",
      "4           少典\n",
      "5           之子\n",
      "6           公孙\n",
      "7           名曰\n",
      "8           轩辕\n",
      "9           生而\n",
      "10          神灵\n",
      "11          能言\n",
      "12          幼而\n",
      "13          徇齐\n",
      "14        长而敦敏\n",
      "15          成而\n",
      "16          聪明\n",
      "17          轩辕\n",
      "18         神农氏\n",
      "19          世衰\n",
      "20          诸侯\n",
      "21          侵伐\n",
      "22          暴虐\n",
      "23          百姓\n",
      "24         神农氏\n",
      "25          能征\n",
      "26          于是\n",
      "27          轩辕\n",
      "28          习用\n",
      "29          干戈\n",
      "          ... \n",
      "170771      杂语\n",
      "170772    藏之名山\n",
      "170773      京师\n",
      "170774      后世\n",
      "170775      圣人\n",
      "170776      君子\n",
      "170777     第七十\n",
      "170778     太史公\n",
      "170779      余述\n",
      "170780      黄帝\n",
      "170781      以来\n",
      "170782      太初\n",
      "170783     三十篇\n",
      "170784      太史\n",
      "170785      良才\n",
      "170786      先德\n",
      "170787      周游\n",
      "170788      历览\n",
      "170789    东西南北\n",
      "170790      事覈\n",
      "170791      词简\n",
      "170792      实录\n",
      "170793      报任\n",
      "170794      投书\n",
      "170795      申李\n",
      "170796      下狱\n",
      "170797      残缺\n",
      "170798      非才\n",
      "170799      妄续\n",
      "170800    一百三十\n",
      "Name: segment, dtype: object\n"
     ]
    }
   ],
   "source": [
    "print(segmentDF['segment'])"
   ]
  },
  {
   "cell_type": "code",
   "execution_count": 360,
   "metadata": {
    "collapsed": false
   },
   "outputs": [],
   "source": [
    "def segrank(text):\n",
    "    segments = []\n",
    "    segs = jieba.cut(text)\n",
    "    for seg in segs:\n",
    "        if len(seg) > 0:#ignoring 1-char words\n",
    "            segments.append(seg)\n",
    "    segmentDF = pd.DataFrame({'segment':segments})\n",
    "    stopwords = pd.read_csv(\"/Users/lifanhong/Desktop/History_dataminig/stopwords.txt\", encoding='utf8', index_col=False, quoting=3, sep=\"\\t\", names = ['key'])\n",
    "    segmentDF = segmentDF[~segmentDF.segment.isin(stopwords.key)]\n",
    "    wyStopWords = pd.Series([\n",
    "  # 42 个文言虚词 \n",
    "  '之', '其', '或', '亦', '方', '于', '即', '皆', '因', '仍', '故', \n",
    "  '尚', '呢', '了', '的', '着', '一', '不', '乃', '呀', '吗', '咧', \n",
    "  '啊', '把', '让', '向', '往', '是', '在', '越', '再', '更', '比', \n",
    "  '很', '偏', '别', '好', '可', '便', '就', '但', '儿', \n",
    "  # 高频副词 \n",
    "  '又', '也', '都', '要', \n",
    "  # 高频代词 \n",
    "  '这', '那', '你', '我', '他',\n",
    "  #高频动词\n",
    "  '来', '去', '道', '笑', '说',\n",
    "  #空格\n",
    "  ' ', '','\\n','曰'\n",
    "    ]);\n",
    "\n",
    "    segmentDF = segmentDF[~segmentDF.segment.isin(wyStopWords)]\n",
    "    segStat = segmentDF.groupby(by=[\"segment\"])[\"segment\"].agg({\"计数\":np.size}).reset_index().sort_values(by=[\"计数\"],ascending=False)\n",
    "    return segStat\n",
    "    \n",
    "segrank(data).to_excel('word_frequent.xlsx', sheet_name='sheet1')\n",
    "\n",
    "# tuples = [tuple(x) for x in seg_test.head(10).values]\n",
    "# print(tuples)"
   ]
  },
  {
   "cell_type": "code",
   "execution_count": 381,
   "metadata": {
    "collapsed": false
   },
   "outputs": [],
   "source": [
    "test = segrank(data)"
   ]
  },
  {
   "cell_type": "code",
   "execution_count": 382,
   "metadata": {
    "collapsed": false
   },
   "outputs": [
    {
     "name": "stdout",
     "output_type": "stream",
     "text": [
      "      segment    计数\n",
      "22292      天下  1157\n",
      "9552        使  1147\n",
      "6216        人  1074\n",
      "15295       卒   982\n",
      "57523      诸侯   935\n",
      "44726       王   915\n",
      "39952       欲   820\n",
      "48827       秦   805\n",
      "22523      太子   776\n",
      "60824       遂   740\n",
      "18793       吾   707\n",
      "40621       死   703\n",
      "52947       臣   660\n",
      "26471      将军   643\n",
      "22362      天子   567\n",
      "30085       彊   528\n",
      "58747       赵   485\n",
      "56523       言   483\n",
      "38543       杀   482\n",
      "36637       时   466\n",
      "24087       子   465\n",
      "17974       后   452\n",
      "27843       已   427\n",
      "39511       楚   427\n",
      "14806      匈奴   418\n",
      "35999       无   412\n",
      "57159       诛   409\n",
      "5213        事   401\n",
      "57379       请   399\n",
      "24547      孔子   395\n",
      "...       ...   ...\n",
      "35136    救过不给     1\n",
      "35137    救过不赡     1\n",
      "35138      救邪     1\n",
      "12751      其舍     1\n",
      "12750     其自为     1\n",
      "12748     其脩道     1\n",
      "12746     其能弃     1\n",
      "35122      救日     1\n",
      "35121     救斗者     1\n",
      "35120      救急     1\n",
      "12761      其荐     1\n",
      "12764     其葬于     1\n",
      "35102      敏捷     1\n",
      "35103      敏行     1\n",
      "12763      其萃     1\n",
      "35105      救且     1\n",
      "12762      其获     1\n",
      "35107      救人     1\n",
      "35108      救信     1\n",
      "12760      其草     1\n",
      "35119      救弱     1\n",
      "35111      救其     1\n",
      "35112      救则     1\n",
      "35113      救卫     1\n",
      "12759     其茏城     1\n",
      "35115     救季氏     1\n",
      "12758      其范     1\n",
      "35117      救宛     1\n",
      "35118      救弊     1\n",
      "66581            1\n",
      "\n",
      "[66582 rows x 2 columns]\n"
     ]
    }
   ],
   "source": [
    "print(test)"
   ]
  },
  {
   "cell_type": "code",
   "execution_count": 397,
   "metadata": {
    "collapsed": true
   },
   "outputs": [],
   "source": [
    "from wordcloud import WordCloud"
   ]
  },
  {
   "cell_type": "code",
   "execution_count": 398,
   "metadata": {
    "collapsed": true
   },
   "outputs": [],
   "source": [
    "new = test[:100]"
   ]
  },
  {
   "cell_type": "code",
   "execution_count": 402,
   "metadata": {
    "collapsed": false
   },
   "outputs": [],
   "source": [
    "output = [new['segment'].str.cat(sep = ' ')]"
   ]
  },
  {
   "cell_type": "code",
   "execution_count": 406,
   "metadata": {
    "collapsed": false
   },
   "outputs": [
    {
     "name": "stdout",
     "output_type": "stream",
     "text": [
      "['天下 使 人 卒 诸侯 王 欲 秦 太子 遂 吾 死 臣 将军 天子 彊 赵 言 杀 时 子 后 已 楚 匈奴 无 诛 事 请 孔子 今 下 丞相 公子 闻 韩 大夫 侯 汉王 诸 伐 听 魏 郡 兵 令 余 陛下 高祖 岁 太后 君 相 非 大王 吴 问 秦王 陈 居 项羽 入 单于 使者 封 汉 群臣 二年 项王 赐 寡人 夫 耳 徙 楚王 行 百姓 大臣 走 赵王 淮南 反 谓 斩 属 郑 邑 公 虏 崩 击 破 怒 甚 不知 太史公 周 皇帝 朕 罢']\n"
     ]
    }
   ],
   "source": [
    "print(output)"
   ]
  },
  {
   "cell_type": "code",
   "execution_count": 407,
   "metadata": {
    "collapsed": false
   },
   "outputs": [],
   "source": []
  },
  {
   "cell_type": "code",
   "execution_count": 415,
   "metadata": {
    "collapsed": false
   },
   "outputs": [
    {
     "name": "stdout",
     "output_type": "stream",
     "text": [
      "Populating the interactive namespace from numpy and matplotlib\n"
     ]
    },
    {
     "data": {
      "image/png": "[encoded data removed]",
      "text/plain": [
       "<matplotlib.figure.Figure at 0x12eb53320>"
      ]
     },
     "metadata": {},
     "output_type": "display_data"
    }
   ],
   "source": [
    "wordcloud = WordCloud(\n",
    "font_path='/Users/lifanhong/Desktop/skills/设计？/sparkling/font/方正清刻本悦宋简体.TTF', \n",
    "background_color=\"black\",stopwords=stopwords\n",
    ").generate(data)\n",
    "%pylab inline\n",
    "plt.imshow(wordcloud, interpolation='bilinear')\n",
    "plt.axis('off')\n",
    "plt.show()"
   ]
  },
  {
   "cell_type": "code",
   "execution_count": 390,
   "metadata": {
    "collapsed": false
   },
   "outputs": [
    {
     "name": "stdout",
     "output_type": "stream",
     "text": [
      "Pandas(Index=21894, segment='天下', 计数=1157)\n",
      "Pandas(Index=54945, segment='诸侯', 计数=935)\n",
      "Pandas(Index=5630, segment='于是', 计数=831)\n",
      "Pandas(Index=22124, segment='太子', 计数=776)\n",
      "Pandas(Index=7432, segment='以为', 计数=724)\n",
      "Pandas(Index=25921, segment='将军', 计数=643)\n",
      "Pandas(Index=21964, segment='天子', 计数=567)\n",
      "Pandas(Index=1675, segment='不能', 计数=483)\n",
      "Pandas(Index=14640, segment='匈奴', 计数=418)\n",
      "Pandas(Index=24060, segment='孔子', 计数=395)\n"
     ]
    }
   ],
   "source": [
    "for row in segStat.head(10).itertuples():\n",
    "    print(row)"
   ]
  },
  {
   "cell_type": "code",
   "execution_count": 389,
   "metadata": {
    "collapsed": false
   },
   "outputs": [
    {
     "name": "stdout",
     "output_type": "stream",
     "text": [
      "<map object at 0x126fb3080>\n",
      "<map object at 0x126fb3080>\n",
      "<map object at 0x126fb3080>\n",
      "<map object at 0x126fb3080>\n",
      "<map object at 0x126fb3080>\n",
      "<map object at 0x126fb3080>\n",
      "<map object at 0x126fb3080>\n",
      "<map object at 0x126fb3080>\n",
      "<map object at 0x126fb3080>\n",
      "<map object at 0x126fb3080>\n"
     ]
    }
   ],
   "source": [
    "for row in new:\n",
    "    print(new)"
   ]
  },
  {
   "cell_type": "code",
   "execution_count": 394,
   "metadata": {
    "collapsed": true
   },
   "outputs": [],
   "source": [
    "a = [(1, 2), (3, 4), (5, 6)]\n",
    "b = np.array(a)"
   ]
  },
  {
   "cell_type": "code",
   "execution_count": 395,
   "metadata": {
    "collapsed": false
   },
   "outputs": [
    {
     "name": "stdout",
     "output_type": "stream",
     "text": [
      "[[1 2]\n",
      " [3 4]\n",
      " [5 6]]\n"
     ]
    }
   ],
   "source": [
    "print(b)"
   ]
  },
  {
   "cell_type": "code",
   "execution_count": 412,
   "metadata": {
    "collapsed": false
   },
   "outputs": [
    {
     "name": "stdout",
     "output_type": "stream",
     "text": [
      "      segment    计数\n",
      "21894      天下  1157\n",
      "54945      诸侯   935\n",
      "5630       于是   831\n",
      "22124      太子   776\n",
      "7432       以为   724\n",
      "25921      将军   643\n",
      "21964      天子   567\n",
      "1675       不能   483\n",
      "14640      匈奴   418\n",
      "24060      孔子   395\n",
      "2336       丞相   378\n",
      "11376      公子   367\n",
      "1378       不得   349\n",
      "21643      大夫   331\n",
      "1244       不可   320\n",
      "32098      所以   317\n",
      "40377      汉王   312\n",
      "60232      陛下   269\n",
      "62026      高祖   264\n",
      "606        三年   258\n",
      "22121      太后   254\n",
      "1469       不敢   248\n",
      "21758      大王   242\n",
      "12182      其后   239\n",
      "47413      秦王   234\n",
      "61226      项羽   221\n",
      "15121      单于   217\n",
      "9764       使者   210\n",
      "17110      可以   208\n",
      "49372      群臣   205\n",
      "...       ...   ...\n",
      "25484      宽释     1\n",
      "25488      宾会     1\n",
      "25489      宾婚     1\n",
      "25493      宾礼     1\n",
      "25454    容之如地     1\n",
      "25452     家驷钧     1\n",
      "25414      家因     1\n",
      "25451      家门     1\n",
      "25416     家安在     1\n",
      "25418     家富者     1\n",
      "25419      家尽     1\n",
      "25422      家常     1\n",
      "25423     家得幸     1\n",
      "25424      家徙     1\n",
      "25425      家必     1\n",
      "25426      家恶     1\n",
      "25427      家教     1\n",
      "25428     家无书     1\n",
      "25429    家无所余     1\n",
      "25430      家有     1\n",
      "25431      家楼     1\n",
      "25432    家殷人足     1\n",
      "25433      家法     1\n",
      "25434      家焉     1\n",
      "25436     家皆亡     1\n",
      "25439      家督     1\n",
      "25445     家自为     1\n",
      "25447     家谋先     1\n",
      "25450    家贫亲老     1\n",
      "31582      懿子     1\n",
      "\n",
      "[63164 rows x 2 columns]\n"
     ]
    }
   ],
   "source": [
    "print(segStat)"
   ]
  },
  {
   "cell_type": "code",
   "execution_count": 413,
   "metadata": {
    "collapsed": false
   },
   "outputs": [
    {
     "name": "stdout",
     "output_type": "stream",
     "text": [
      "<map object at 0x12dd5f4e0>\n"
     ]
    }
   ],
   "source": [
    "print(segStat.head(1000).itertuples(index=False))"
   ]
  },
  {
   "cell_type": "code",
   "execution_count": 411,
   "metadata": {
    "collapsed": false
   },
   "outputs": [
    {
     "ename": "AttributeError",
     "evalue": "'map' object has no attribute 'items'",
     "output_type": "error",
     "traceback": [
      "\u001b[0;31m---------------------------------------------------------------------------\u001b[0m",
      "\u001b[0;31mAttributeError\u001b[0m                            Traceback (most recent call last)",
      "\u001b[0;32m<ipython-input-411-ce0ea7284da5>\u001b[0m in \u001b[0;36m<module>\u001b[0;34m()\u001b[0m\n\u001b[1;32m      6\u001b[0m \u001b[0mbackground_color\u001b[0m\u001b[0;34m=\u001b[0m\u001b[0;34m\"black\"\u001b[0m\u001b[0;34m\u001b[0m\u001b[0m\n\u001b[1;32m      7\u001b[0m )\n\u001b[0;32m----> 8\u001b[0;31m \u001b[0mwordcloud\u001b[0m \u001b[0;34m=\u001b[0m \u001b[0mwordcloud\u001b[0m\u001b[0;34m.\u001b[0m\u001b[0mfit_words\u001b[0m\u001b[0;34m(\u001b[0m\u001b[0msegStat\u001b[0m\u001b[0;34m.\u001b[0m\u001b[0mhead\u001b[0m\u001b[0;34m(\u001b[0m\u001b[0;36m1000\u001b[0m\u001b[0;34m)\u001b[0m\u001b[0;34m.\u001b[0m\u001b[0mitertuples\u001b[0m\u001b[0;34m(\u001b[0m\u001b[0mindex\u001b[0m\u001b[0;34m=\u001b[0m\u001b[0;32mFalse\u001b[0m\u001b[0;34m)\u001b[0m\u001b[0;34m)\u001b[0m\u001b[0;34m\u001b[0m\u001b[0m\n\u001b[0m\u001b[1;32m      9\u001b[0m \u001b[0;34m\u001b[0m\u001b[0m\n\u001b[1;32m     10\u001b[0m \u001b[0mplt\u001b[0m\u001b[0;34m.\u001b[0m\u001b[0mfigure\u001b[0m\u001b[0;34m(\u001b[0m\u001b[0mnum\u001b[0m\u001b[0;34m=\u001b[0m\u001b[0;32mNone\u001b[0m\u001b[0;34m,\u001b[0m \u001b[0mfigsize\u001b[0m\u001b[0;34m=\u001b[0m\u001b[0;34m(\u001b[0m\u001b[0;36m1000\u001b[0m\u001b[0;34m,\u001b[0m \u001b[0;36m600\u001b[0m\u001b[0;34m)\u001b[0m\u001b[0;34m,\u001b[0m \u001b[0mdpi\u001b[0m\u001b[0;34m=\u001b[0m\u001b[0;36m800\u001b[0m\u001b[0;34m,\u001b[0m \u001b[0mfacecolor\u001b[0m\u001b[0;34m=\u001b[0m\u001b[0;34m'w'\u001b[0m\u001b[0;34m,\u001b[0m \u001b[0medgecolor\u001b[0m\u001b[0;34m=\u001b[0m\u001b[0;34m'k'\u001b[0m\u001b[0;34m)\u001b[0m\u001b[0;34m\u001b[0m\u001b[0m\n",
      "\u001b[0;32m/Users/lifanhong/anaconda3/lib/python3.5/site-packages/wordcloud/wordcloud.py\u001b[0m in \u001b[0;36mfit_words\u001b[0;34m(self, frequencies)\u001b[0m\n\u001b[1;32m    329\u001b[0m         \u001b[0mself\u001b[0m\u001b[0;34m\u001b[0m\u001b[0m\n\u001b[1;32m    330\u001b[0m         \"\"\"\n\u001b[0;32m--> 331\u001b[0;31m         \u001b[0;32mreturn\u001b[0m \u001b[0mself\u001b[0m\u001b[0;34m.\u001b[0m\u001b[0mgenerate_from_frequencies\u001b[0m\u001b[0;34m(\u001b[0m\u001b[0mfrequencies\u001b[0m\u001b[0;34m)\u001b[0m\u001b[0;34m\u001b[0m\u001b[0m\n\u001b[0m\u001b[1;32m    332\u001b[0m \u001b[0;34m\u001b[0m\u001b[0m\n\u001b[1;32m    333\u001b[0m     \u001b[0;32mdef\u001b[0m \u001b[0mgenerate_from_frequencies\u001b[0m\u001b[0;34m(\u001b[0m\u001b[0mself\u001b[0m\u001b[0;34m,\u001b[0m \u001b[0mfrequencies\u001b[0m\u001b[0;34m,\u001b[0m \u001b[0mmax_font_size\u001b[0m\u001b[0;34m=\u001b[0m\u001b[0;32mNone\u001b[0m\u001b[0;34m)\u001b[0m\u001b[0;34m:\u001b[0m\u001b[0;34m\u001b[0m\u001b[0m\n",
      "\u001b[0;32m/Users/lifanhong/anaconda3/lib/python3.5/site-packages/wordcloud/wordcloud.py\u001b[0m in \u001b[0;36mgenerate_from_frequencies\u001b[0;34m(self, frequencies, max_font_size)\u001b[0m\n\u001b[1;32m    348\u001b[0m         \"\"\"\n\u001b[1;32m    349\u001b[0m         \u001b[0;31m# make sure frequencies are sorted and normalized\u001b[0m\u001b[0;34m\u001b[0m\u001b[0;34m\u001b[0m\u001b[0m\n\u001b[0;32m--> 350\u001b[0;31m         \u001b[0mfrequencies\u001b[0m \u001b[0;34m=\u001b[0m \u001b[0msorted\u001b[0m\u001b[0;34m(\u001b[0m\u001b[0mfrequencies\u001b[0m\u001b[0;34m.\u001b[0m\u001b[0mitems\u001b[0m\u001b[0;34m(\u001b[0m\u001b[0;34m)\u001b[0m\u001b[0;34m,\u001b[0m \u001b[0mkey\u001b[0m\u001b[0;34m=\u001b[0m\u001b[0mitem1\u001b[0m\u001b[0;34m,\u001b[0m \u001b[0mreverse\u001b[0m\u001b[0;34m=\u001b[0m\u001b[0;32mTrue\u001b[0m\u001b[0;34m)\u001b[0m\u001b[0;34m\u001b[0m\u001b[0m\n\u001b[0m\u001b[1;32m    351\u001b[0m         \u001b[0;32mif\u001b[0m \u001b[0mlen\u001b[0m\u001b[0;34m(\u001b[0m\u001b[0mfrequencies\u001b[0m\u001b[0;34m)\u001b[0m \u001b[0;34m<=\u001b[0m \u001b[0;36m0\u001b[0m\u001b[0;34m:\u001b[0m\u001b[0;34m\u001b[0m\u001b[0m\n\u001b[1;32m    352\u001b[0m             raise ValueError(\"We need at least 1 word to plot a word cloud, \"\n",
      "\u001b[0;31mAttributeError\u001b[0m: 'map' object has no attribute 'items'"
     ]
    }
   ],
   "source": [
    "import matplotlib.pyplot as plt\n",
    "from wordcloud import WordCloud\n",
    "\n",
    "wordcloud = WordCloud(\n",
    "font_path='/Users/lifanhong/Desktop/skills/设计？/sparkling/font/方正清刻本悦宋简体.TTF', \n",
    "background_color=\"black\"\n",
    ")\n",
    "wordcloud = wordcloud.fit_words(segStat.head(1000).itertuples(index=False))\n",
    "\n",
    "plt.figure(num=None, figsize=(1000, 600), dpi=800, facecolor='w', edgecolor='k')\n",
    "\n",
    "wordcloud = wordcloud.fit_words(b)\n",
    "\n",
    "plt.imshow(wordcloud)\n",
    "\n",
    "# plt.close()\n",
    "# # wordcloud = WordCloud(font_path='/Users/lifanhong/Desktop/skills/设计？/sparkling/font/方正清刻本悦宋简体.TTF', background_color=\"black\")\n",
    "# # plt.figure()\n",
    "# # plt.imshow(wordcloud, interpolation=\"bilinear\")\n",
    "# # plt.axis(\"off\")\n",
    "# # plt.show()\n",
    "# # # wordcloud = WordCloud(font_path='/Users/lifanhong/Desktop/skills/设计？/sparkling/font/方正清刻本悦宋简体.TTF', background_color=\"black\")\n",
    "# # # plt.figure(num=None, figsize=(1000, 600), dpi=800, facecolor='w', edgecolor='k')\n",
    "# # # wordcloud = wordcloud.generate_from_frequencies(segStat.head(1000).itertuples(index=False))\n",
    "# # # plt.imshow(wordcloud)\n",
    "# # # plt.close()"
   ]
  },
  {
   "cell_type": "code",
   "execution_count": 203,
   "metadata": {
    "collapsed": false
   },
   "outputs": [
    {
     "name": "stdout",
     "output_type": "stream",
     "text": [
      "tags : ['诸侯', '天下', '太子', '于是', '天子', '以为', '将军', '匈奴', '孔子', '汉王']\n",
      "textrank : ['太子', '将军', '天子', '不能', '匈奴', '不得', '丞相', '公子', '不可', '陛下']\n"
     ]
    }
   ],
   "source": [
    "tags = analyse.extract_tags(data, topK=10, withWeight=False, allowPOS=())\n",
    "textrank = analyse.textrank(data, topK=10, withWeight=False)\n",
    "print(\"tags : \" + str(tags))\n",
    "print(\"textrank : \" + str(textrank))"
   ]
  },
  {
   "cell_type": "code",
   "execution_count": 227,
   "metadata": {
    "collapsed": false
   },
   "outputs": [
    {
     "data": {
      "text/plain": [
       "segment    黄帝\n",
       "计数          6\n",
       "Name: 117, dtype: object"
      ]
     },
     "execution_count": 227,
     "metadata": {},
     "output_type": "execute_result"
    }
   ],
   "source": [
    "test2 = shiji[shiji['vol'] == 2]['text'].tolist()[0]\n",
    "segrank(test1).iloc[0]"
   ]
  },
  {
   "cell_type": "code",
   "execution_count": 228,
   "metadata": {
    "collapsed": false
   },
   "outputs": [
    {
     "name": "stdout",
     "output_type": "stream",
     "text": [
      "四岳\n"
     ]
    }
   ],
   "source": [
    "tags2 = analyse.extract_tags(test2, topK=10, withWeight=False, allowPOS=())\n",
    "print(tags2[0])"
   ]
  },
  {
   "cell_type": "code",
   "execution_count": 245,
   "metadata": {
    "collapsed": false
   },
   "outputs": [
    {
     "name": "stdout",
     "output_type": "stream",
     "text": [
      "卷十五·六国年表第三\n",
      "\n",
      "　　太史公读秦记，至犬戎败幽王，周东徙洛邑，秦襄公始封为诸侯，作西畤用事上帝，僭端见矣。礼曰：“天子祭天地，诸侯祭其域内名山大川。”今秦杂戎翟之俗，先暴戾，后仁义，位在籓臣而胪于郊祀，君子惧焉。及文公逾陇，攘夷狄，尊陈宝，营岐雍之间，而穆公脩政，东竟至河，则与齐桓、晋文中国侯伯侔矣。是后陪臣执政，大夫世禄，六卿擅晋权，征伐会盟，威重于诸侯。及田常杀简公而相齐国，诸侯晏然弗讨，海内争于战功矣。三国终之卒分晋，田和亦灭齐而有之，六国之盛自此始。务在彊兵并敌，谋诈用而从衡短长之说起。矫称出，誓盟不信，虽置质剖符犹不能约束也。秦始小国僻远，诸夏宾之，比于戎翟，至献公之后常雄诸侯。论秦之德义不如鲁卫之暴戾者，量秦之兵不如三晋之彊也，然卒并天下，非必险固便形埶利也，盖若天所助焉。\n",
      "\n",
      "　　或曰“东方物所始生，西方物之成孰”。夫作事者必于东南，收功实者常于西北。故禹兴于西羌，汤起于亳，周之王也以丰镐伐殷，秦之帝用雍州兴，汉之兴自蜀汉。\n",
      "\n",
      "　　秦既得意，烧天下诗书，诸侯史记尤甚，为其有所刺讥也。诗书所以复见者，多藏人家，而史记独藏周室，以故灭。惜哉，惜哉！独有秦记，又不载日月，其文略不具。然战国之权变亦有可颇采者，何必上古。秦取天下多暴，然世异变，成功大。传曰“法后王”，何也？以其近己而俗变相类，议卑而易行也。学者牵于所闻，见秦在帝位日浅，不察其终始，因举而笑之，不敢道，此与以耳食无异。悲夫！\n",
      "\n",
      "　　余于是因秦记，踵春秋之后，起周元王，表六国时事，讫二世，凡二百七十年，著诸所闻兴坏之端。后有君子，以览观焉。\n",
      "\n",
      "　　卷\n"
     ]
    }
   ],
   "source": [
    "test1 = shiji[shiji['vol'] == 15]['text'].tolist()[0]\n",
    "print(test1)"
   ]
  },
  {
   "cell_type": "code",
   "execution_count": null,
   "metadata": {
    "collapsed": true
   },
   "outputs": [],
   "source": []
  }
 ],
 "metadata": {
  "anaconda-cloud": {},
  "kernelspec": {
   "display_name": "Python [conda root]",
   "language": "python",
   "name": "conda-root-py"
  },
  "language_info": {
   "codemirror_mode": {
    "name": "ipython",
    "version": 3
   },
   "file_extension": ".py",
   "mimetype": "text/x-python",
   "name": "python",
   "nbconvert_exporter": "python",
   "pygments_lexer": "ipython3",
   "version": "3.5.2"
  }
 },
 "nbformat": 4,
 "nbformat_minor": 1
}
